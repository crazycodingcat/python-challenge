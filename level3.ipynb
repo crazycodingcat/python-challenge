{
 "metadata": {
  "name": "",
  "signature": "sha256:9b3296e924d6dd531ab6cd24a079cc3391eeb95ace4dfbf6327851e5ba6ac779"
 },
 "nbformat": 3,
 "nbformat_minor": 0,
 "worksheets": [
  {
   "cells": [
    {
     "cell_type": "code",
     "collapsed": false,
     "input": [
      "data_path = \"/home/xuan/Desktop/Workspace/PyChallenge/data/level3.txt\""
     ],
     "language": "python",
     "metadata": {},
     "outputs": [],
     "prompt_number": 3
    },
    {
     "cell_type": "code",
     "collapsed": false,
     "input": [
      "data = ''.join([line.rstrip() for line in open(data_path)])"
     ],
     "language": "python",
     "metadata": {},
     "outputs": [],
     "prompt_number": 8
    },
    {
     "cell_type": "code",
     "collapsed": false,
     "input": [
      "import re\n",
      "pattern = re.compile('[a-z]+[A-Z]{3}[a-z]{1}[A-Z]{3}[a-z]+')"
     ],
     "language": "python",
     "metadata": {},
     "outputs": [],
     "prompt_number": 13
    },
    {
     "cell_type": "code",
     "collapsed": false,
     "input": [
      "s=pattern.findall(data)"
     ],
     "language": "python",
     "metadata": {},
     "outputs": [],
     "prompt_number": 17
    },
    {
     "cell_type": "code",
     "collapsed": false,
     "input": [
      "s"
     ],
     "language": "python",
     "metadata": {},
     "outputs": [
      {
       "metadata": {},
       "output_type": "pyout",
       "prompt_number": 18,
       "text": [
        "['dqIQNlQSLidb',\n",
        " 'zeOEKiVEYj',\n",
        " 'xwaZADnMCZq',\n",
        " 'ewaebZUTkLYNgo',\n",
        " 'uCNDeHSBjgsg',\n",
        " 'nkOIXdKBFh',\n",
        " 'dXJVlGZVme',\n",
        " 'gZAGiLQZx',\n",
        " 'jvCJAsACFl',\n",
        " 'gfeqKWGtIDCjn']"
       ]
      }
     ],
     "prompt_number": 18
    },
    {
     "cell_type": "heading",
     "level": 2,
     "metadata": {},
     "source": [
      "Better solution"
     ]
    },
    {
     "cell_type": "code",
     "collapsed": false,
     "input": [
      "\"\".join(re.findall('[a-z][A-Z]{3}([a-z])[A-Z]{3}[a-z]', data))"
     ],
     "language": "python",
     "metadata": {},
     "outputs": [
      {
       "metadata": {},
       "output_type": "pyout",
       "prompt_number": 20,
       "text": [
        "'linkedlist'"
       ]
      }
     ],
     "prompt_number": 20
    },
    {
     "cell_type": "code",
     "collapsed": false,
     "input": [],
     "language": "python",
     "metadata": {},
     "outputs": []
    }
   ],
   "metadata": {}
  }
 ]
}