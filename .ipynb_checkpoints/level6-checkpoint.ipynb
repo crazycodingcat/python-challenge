{
 "metadata": {
  "name": "",
  "signature": "sha256:c885c83074026ee2cca6ee55389b3d1b63be8c34b8e2a1c57465ebd76216cf10"
 },
 "nbformat": 3,
 "nbformat_minor": 0,
 "worksheets": []
}